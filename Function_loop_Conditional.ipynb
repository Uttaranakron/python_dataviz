{
 "cells": [
  {
   "cell_type": "markdown",
   "metadata": {},
   "source": [
    "# Function\n",
    "function : สิ่งที่ช่วยให้เราไม่ต้องเขียน code เดิมๆ หลายรอบ\n",
    "### print ชื่อ XXX นามสกุล YYY รหัส ZZZ\n",
    "### print เกรด วิชา Stat1 >>> AAA\n"
   ]
  },
  {
   "cell_type": "markdown",
   "metadata": {},
   "source": [
    "แบบที่1 คือจะเป็นการกำหนดค่าให้กับ input เพื่อให้ได้ output ออกมา "
   ]
  },
  {
   "cell_type": "code",
   "execution_count": 26,
   "metadata": {},
   "outputs": [
    {
     "name": "stdout",
     "output_type": "stream",
     "text": [
      "ชื่อ นางสาวปิยาพร นามสกุล อุตรนคร รหัส 603021873-0\n"
     ]
    }
   ],
   "source": [
    "a = 'ชื่อ นางสาวปิยาพร นามสกุล อุตรนคร รหัส 603021873-0'\n",
    "print(a)"
   ]
  },
  {
   "cell_type": "markdown",
   "metadata": {},
   "source": [
    "แบบที่2 คือจะเป็นการกำหนดรูปแบบfunction ไว้ให้อยู่ในรูปแบบที่ต้องการตามแบบที่1 แต่ข้อดีของแบบที่2คือจะง่ายต่อความเข้าใจ"
   ]
  },
  {
   "cell_type": "code",
   "execution_count": 27,
   "metadata": {},
   "outputs": [
    {
     "name": "stdout",
     "output_type": "stream",
     "text": [
      "ชื่อ ปิยาพร นามสกุล อุตรนคร รหัส 603021873-0\n"
     ]
    }
   ],
   "source": [
    "name = 'ปิยาพร'\n",
    "surname = 'อุตรนคร'\n",
    "ID = '603021873-0'\n",
    "\n",
    "b = f'ชื่อ {name} นามสกุล {surname} รหัส {ID}'\n",
    "print(b)"
   ]
  },
  {
   "cell_type": "markdown",
   "metadata": {},
   "source": [
    "# Function template\n",
    "```python\n",
    "def function_name(input):\n",
    "       do_something\n",
    "       return output ```\n",
    "       \n",
    "       "
   ]
  },
  {
   "cell_type": "markdown",
   "metadata": {},
   "source": [
    " ##### function (แบบปกติ)"
   ]
  },
  {
   "cell_type": "markdown",
   "metadata": {},
   "source": [
    "กำหนดให้ function เก็บค่าไว้"
   ]
  },
  {
   "cell_type": "code",
   "execution_count": 28,
   "metadata": {},
   "outputs": [],
   "source": [
    "def print_line1(name1,surname1,ID1):\n",
    "    st = f'ชื่อ {name} นามสกุล {surname} รหัส {ID}'\n",
    "    \n",
    "    return st"
   ]
  },
  {
   "cell_type": "code",
   "execution_count": 29,
   "metadata": {},
   "outputs": [
    {
     "name": "stdout",
     "output_type": "stream",
     "text": [
      "ชื่อ ปิยาพร นามสกุล อุตรนคร รหัส 603021873-0\n"
     ]
    }
   ],
   "source": [
    "print(print_line1('ปิยาพร','อุตรนคร',' 603021873-0'))"
   ]
  },
  {
   "cell_type": "markdown",
   "metadata": {},
   "source": [
    "# function without output"
   ]
  },
  {
   "cell_type": "markdown",
   "metadata": {},
   "source": [
    "(function ไม่มี output)"
   ]
  },
  {
   "cell_type": "code",
   "execution_count": 30,
   "metadata": {},
   "outputs": [],
   "source": [
    "def print_2lines(name1,surname1,ID1,grade):\n",
    "    st = f'ชื่อ {name1} นามสกุล {surname1} รหัส {ID1}'\n",
    "    print(st)\n",
    "    st2 = f'เกรดวิชา Stat1 >>> {grade}'\n",
    "    print (st2)\n"
   ]
  },
  {
   "cell_type": "code",
   "execution_count": 31,
   "metadata": {},
   "outputs": [
    {
     "name": "stdout",
     "output_type": "stream",
     "text": [
      "ชื่อ กาญจนา นามสกุล ประสาคุณ รหัส 603021855-2\n",
      "เกรดวิชา Stat1 >>> A\n"
     ]
    }
   ],
   "source": [
    "print_2lines('กาญจนา','ประสาคุณ','603021855-2','A')"
   ]
  },
  {
   "cell_type": "code",
   "execution_count": 32,
   "metadata": {},
   "outputs": [
    {
     "name": "stdout",
     "output_type": "stream",
     "text": [
      "ชื่อ ปิยาพร นามสกุล อุตรนคร รหัส 603021873-0\n",
      "เกรดวิชา Stat1 >>> A\n",
      "ชื่อ กรรณิการ์ นามสกุล วิรัชวา รหัส 603020904-0\n",
      "เกรดวิชา Stat1 >>> A\n",
      "ชื่อ พุธิตา นามสกุล เจือจัน รหัส 603021879-8\n",
      "เกรดวิชา Stat1 >>> A\n",
      "ชื่อ วิภาวดี นามสกุล แก้วดวงดี รหัส 603021112-8\n",
      "เกรดวิชา Stat1 >>> A\n"
     ]
    }
   ],
   "source": [
    "print_2lines('ปิยาพร','อุตรนคร','603021873-0','A')\n",
    "print_2lines('กรรณิการ์','วิรัชวา','603020904-0','A')\n",
    "print_2lines('พุธิตา','เจือจัน','603021879-8','A')\n",
    "print_2lines('วิภาวดี','แก้วดวงดี','603021112-8','A')"
   ]
  },
  {
   "cell_type": "markdown",
   "metadata": {},
   "source": [
    "# function without input"
   ]
  },
  {
   "cell_type": "markdown",
   "metadata": {},
   "source": [
    "( function ไม่มี input)"
   ]
  },
  {
   "cell_type": "code",
   "execution_count": 33,
   "metadata": {},
   "outputs": [],
   "source": [
    "def two_x_tree():\n",
    "    x = 2*3\n",
    "    return x"
   ]
  },
  {
   "cell_type": "code",
   "execution_count": 34,
   "metadata": {},
   "outputs": [
    {
     "data": {
      "text/plain": [
       "6"
      ]
     },
     "execution_count": 34,
     "metadata": {},
     "output_type": "execute_result"
    }
   ],
   "source": [
    "two_x_tree()"
   ]
  },
  {
   "cell_type": "markdown",
   "metadata": {},
   "source": [
    "# function with default argunment"
   ]
  },
  {
   "cell_type": "markdown",
   "metadata": {},
   "source": [
    " function ที่มีอาร์กิวเมนต์เริ่มต้น"
   ]
  },
  {
   "cell_type": "code",
   "execution_count": 35,
   "metadata": {},
   "outputs": [],
   "source": [
    "def print_2lines_default(name1,surname1,ID1,grade='F'):\n",
    "    st = f'ชื่อ {name1} นามสกุล {surname1} รหัส {ID1}'\n",
    "    print(st)\n",
    "    st2 = f'เกรดวิชา stat1 >>> {grade}'\n",
    "    print(st2)"
   ]
  },
  {
   "cell_type": "markdown",
   "metadata": {},
   "source": [
    "#### ถ้าลืมใส่เกรด function จะใส่ Default ให้เลยคือ F ***grade='F'"
   ]
  },
  {
   "cell_type": "code",
   "execution_count": 36,
   "metadata": {},
   "outputs": [
    {
     "name": "stdout",
     "output_type": "stream",
     "text": [
      "ชื่อ กาญจนา นามสกุล ประสาคุณ รหัส 603021855-2\n",
      "เกรดวิชา stat1 >>> F\n"
     ]
    }
   ],
   "source": [
    "print_2lines_default('กาญจนา','ประสาคุณ','603021855-2')"
   ]
  },
  {
   "cell_type": "code",
   "execution_count": 37,
   "metadata": {},
   "outputs": [
    {
     "name": "stdout",
     "output_type": "stream",
     "text": [
      "ชื่อ ประสาคุณ นามสกุล กาญจนา รหัส 603021855-2\n",
      "เกรดวิชา stat1 >>> F\n"
     ]
    }
   ],
   "source": [
    "print_2lines_default(surname1 = 'กาญจนา',name1 = 'ประสาคุณ',ID1 = '603021855-2')"
   ]
  },
  {
   "cell_type": "code",
   "execution_count": 38,
   "metadata": {},
   "outputs": [
    {
     "name": "stdout",
     "output_type": "stream",
     "text": [
      "ชื่อ ปิยาพร นามสกุล อุตรนคร รหัส 603021873-0\n",
      "เกรดวิชา Stat1 >>> A\n"
     ]
    }
   ],
   "source": [
    "print_2lines('ปิยาพร','อุตรนคร','603021873-0','A')"
   ]
  },
  {
   "cell_type": "markdown",
   "metadata": {},
   "source": [
    "# Loop(วนซ้ำ)\n",
    "   ```python \n",
    "   for each_member in listA:\n",
    "           do something  ``` \n",
    "           "
   ]
  },
  {
   "cell_type": "code",
   "execution_count": 39,
   "metadata": {},
   "outputs": [
    {
     "name": "stdout",
     "output_type": "stream",
     "text": [
      "1\n",
      "2\n",
      "3\n"
     ]
    }
   ],
   "source": [
    "for i in [1,2,3]:\n",
    "    print(i)"
   ]
  },
  {
   "cell_type": "code",
   "execution_count": 40,
   "metadata": {},
   "outputs": [
    {
     "name": "stdout",
     "output_type": "stream",
     "text": [
      "P-> / \n",
      "i-> / \n",
      "y-> / \n",
      "a-> / \n",
      "p-> / \n",
      "r-> / \n",
      "o-> / \n",
      "n-> / \n"
     ]
    }
   ],
   "source": [
    "for i in 'Piyapron':\n",
    "    print(f'{i }-> / ')"
   ]
  },
  {
   "cell_type": "code",
   "execution_count": 41,
   "metadata": {},
   "outputs": [
    {
     "name": "stdout",
     "output_type": "stream",
     "text": [
      "P -> /\n",
      " \n",
      "I -> /\n",
      " \n",
      "Y -> /\n",
      " \n",
      "A -> /\n",
      " \n",
      "P -> /\n",
      " \n",
      "R -> /\n",
      " \n",
      "O -> /\n",
      " \n",
      "N -> /\n",
      " \n",
      "U -> /\n",
      " \n",
      "T -> /\n",
      " \n",
      "T -> /\n",
      " \n",
      "A -> /\n",
      " \n",
      "R -> /\n",
      " \n",
      "A -> /\n",
      " \n",
      "N -> /\n",
      " \n",
      "A -> /\n",
      " \n",
      "K -> /\n",
      " \n",
      "R -> /\n",
      " \n",
      "O -> /\n",
      " \n",
      "N -> /\n",
      " \n"
     ]
    }
   ],
   "source": [
    "for i in 'PIYAPRONUTTARANAKRON':\n",
    "    print(f'{i} -> /')\n",
    "    print(' ')"
   ]
  },
  {
   "cell_type": "markdown",
   "metadata": {},
   "source": [
    "### 1 สร้าง list ชื่อเพื่อนที่อยู่ในแถวยาวเดียวกัน\n",
    "### 1.5 สร้าง function print ประโยคว่า XXXเราYYYความรู้สึกZZZเพื่อน ทุกคนในแถวยาว\n",
    "### 2 วนลูป เรียก function โดยเปลี่ยนชื่อเพื่อนไปเรื่อยๆ"
   ]
  },
  {
   "cell_type": "markdown",
   "metadata": {},
   "source": [
    " ## function in loop \n",
    " 1.ตั้งชื่อ list 2. function in loop "
   ]
  },
  {
   "cell_type": "code",
   "execution_count": 42,
   "metadata": {},
   "outputs": [],
   "source": [
    "friend_list = ['ไอ่','ดิว','เอิร์น']\n",
    "def print_friend (I,feeling,friend) :\n",
    "    print(f'{I} {feeling} {friend}')"
   ]
  },
  {
   "cell_type": "code",
   "execution_count": 43,
   "metadata": {},
   "outputs": [
    {
     "data": {
      "text/plain": [
       "['ไอ่', 'ดิว', 'เอิร์น']"
      ]
     },
     "execution_count": 43,
     "metadata": {},
     "output_type": "execute_result"
    }
   ],
   "source": [
    "friend_list "
   ]
  },
  {
   "cell_type": "code",
   "execution_count": 44,
   "metadata": {},
   "outputs": [],
   "source": [
    "def print_output(I,feeling,friend):\n",
    "       print(f'{I} {feeling} {friend}')"
   ]
  },
  {
   "cell_type": "code",
   "execution_count": 45,
   "metadata": {},
   "outputs": [
    {
     "name": "stdout",
     "output_type": "stream",
     "text": [
      "ขวัญ รัก ไอ่\n"
     ]
    }
   ],
   "source": [
    "print_output('ขวัญ','รัก','ไอ่')\n"
   ]
  },
  {
   "cell_type": "code",
   "execution_count": 46,
   "metadata": {},
   "outputs": [
    {
     "name": "stdout",
     "output_type": "stream",
     "text": [
      "ขวัญ รัก ไอ่\n",
      "ขวัญ รัก ดิว\n",
      "ขวัญ รัก เอิร์น\n"
     ]
    }
   ],
   "source": [
    "for f in friend_list:\n",
    "        print_output('ขวัญ','รัก',f)"
   ]
  },
  {
   "cell_type": "markdown",
   "metadata": {},
   "source": [
    "## loop in function\n"
   ]
  },
  {
   "cell_type": "code",
   "execution_count": 47,
   "metadata": {},
   "outputs": [],
   "source": [
    "def print_feelings(I,feeling,friends):\n",
    "    for frined in friends:\n",
    "        print(f'{I} {feeling} {frined}')"
   ]
  },
  {
   "cell_type": "code",
   "execution_count": 48,
   "metadata": {},
   "outputs": [
    {
     "name": "stdout",
     "output_type": "stream",
     "text": [
      "ขวัญ love ไอ่\n",
      "ขวัญ love ดิว\n",
      "ขวัญ love เอิร์น\n"
     ]
    }
   ],
   "source": [
    "print_feelings('ขวัญ','love',friend_list)"
   ]
  },
  {
   "cell_type": "markdown",
   "metadata": {},
   "source": [
    "## looping in dict\n"
   ]
  },
  {
   "cell_type": "code",
   "execution_count": 49,
   "metadata": {},
   "outputs": [
    {
     "data": {
      "text/plain": [
       "{'ปิยาพร': 'A', 'กาญจนา': 'B'}"
      ]
     },
     "execution_count": 49,
     "metadata": {},
     "output_type": "execute_result"
    }
   ],
   "source": [
    "name_grade = {'ปิยาพร' : 'A' , 'กาญจนา' : 'B'}\n",
    "name_grade\n"
   ]
  },
  {
   "cell_type": "code",
   "execution_count": 50,
   "metadata": {},
   "outputs": [
    {
     "data": {
      "text/plain": [
       "'A'"
      ]
     },
     "execution_count": 50,
     "metadata": {},
     "output_type": "execute_result"
    }
   ],
   "source": [
    "name_grade['ปิยาพร']"
   ]
  },
  {
   "cell_type": "code",
   "execution_count": 51,
   "metadata": {},
   "outputs": [
    {
     "data": {
      "text/plain": [
       "dict_keys(['ปิยาพร', 'กาญจนา'])"
      ]
     },
     "execution_count": 51,
     "metadata": {},
     "output_type": "execute_result"
    }
   ],
   "source": [
    "name_grade.keys()"
   ]
  },
  {
   "cell_type": "code",
   "execution_count": 52,
   "metadata": {},
   "outputs": [
    {
     "name": "stdout",
     "output_type": "stream",
     "text": [
      "ปิยาพร ได้เกรด A\n",
      "กาญจนา ได้เกรด B\n"
     ]
    }
   ],
   "source": [
    "for i in name_grade.keys():\n",
    "    print(f'{i} ได้เกรด {name_grade[i]}')"
   ]
  },
  {
   "cell_type": "markdown",
   "metadata": {},
   "source": [
    "## loop in loop\n"
   ]
  },
  {
   "cell_type": "code",
   "execution_count": 53,
   "metadata": {},
   "outputs": [
    {
     "name": "stdout",
     "output_type": "stream",
     "text": [
      "ไอ่ รัก ไอ่\n",
      "ไอ่ รัก ดิว\n",
      "ไอ่ รัก เอิร์น\n",
      "ดิว รัก ไอ่\n",
      "ดิว รัก ดิว\n",
      "ดิว รัก เอิร์น\n",
      "เอิร์น รัก ไอ่\n",
      "เอิร์น รัก ดิว\n",
      "เอิร์น รัก เอิร์น\n"
     ]
    }
   ],
   "source": [
    "for name1 in friend_list:\n",
    "        for name2 in friend_list:\n",
    "            print(name1,'รัก',name2)"
   ]
  },
  {
   "cell_type": "markdown",
   "metadata": {},
   "source": [
    "## Conditional ประโยคเงื่อนไข\n"
   ]
  },
  {
   "cell_type": "markdown",
   "metadata": {},
   "source": [
    "## ==, !=,  >= , <= , < , >"
   ]
  },
  {
   "cell_type": "markdown",
   "metadata": {},
   "source": [
    "```python\n",
    "if condition1:\n",
    "    do something\n",
    "elif condition2:\n",
    "    do another thing\n",
    "else:\n",
    "    do... \n",
    "    ```   "
   ]
  },
  {
   "cell_type": "code",
   "execution_count": 56,
   "metadata": {},
   "outputs": [
    {
     "name": "stdout",
     "output_type": "stream",
     "text": [
      "ไอ่ รัก ดิว\n",
      "ไอ่ รัก เอิร์น\n",
      "ดิว รัก ไอ่\n",
      "ดิว รัก เอิร์น\n",
      "เอิร์น รัก ไอ่\n",
      "เอิร์น รัก ดิว\n"
     ]
    }
   ],
   "source": [
    "for name1 in friend_list:\n",
    "        for name2 in friend_list:\n",
    "            if name1 != name2:\n",
    "                 print_output(name1,'รัก',name2)"
   ]
  },
  {
   "cell_type": "code",
   "execution_count": 57,
   "metadata": {},
   "outputs": [
    {
     "name": "stdout",
     "output_type": "stream",
     "text": [
      "Yes\n"
     ]
    }
   ],
   "source": [
    "if True:\n",
    "    print('Yes')"
   ]
  },
  {
   "cell_type": "code",
   "execution_count": 58,
   "metadata": {},
   "outputs": [
    {
     "name": "stdout",
     "output_type": "stream",
     "text": [
      "No\n"
     ]
    }
   ],
   "source": [
    "if False:\n",
    "    print('Yes')\n",
    "else:\n",
    "    print('No')"
   ]
  },
  {
   "cell_type": "code",
   "execution_count": 59,
   "metadata": {},
   "outputs": [
    {
     "data": {
      "text/plain": [
       "True"
      ]
     },
     "execution_count": 59,
     "metadata": {},
     "output_type": "execute_result"
    }
   ],
   "source": [
    "1 == 1"
   ]
  },
  {
   "cell_type": "code",
   "execution_count": 60,
   "metadata": {},
   "outputs": [
    {
     "name": "stdout",
     "output_type": "stream",
     "text": [
      "1=1\n"
     ]
    }
   ],
   "source": [
    "if 1 == 1:\n",
    "    print('1=1')"
   ]
  },
  {
   "cell_type": "markdown",
   "metadata": {},
   "source": [
    "# HM\n",
    "เขียน function ตัดเกรดโดยที่ input เป็น คะแนน(0-100) เป็นเกรด (F-A)\n",
    "input = [1,50,65,90,101,-5,49]"
   ]
  },
  {
   "cell_type": "code",
   "execution_count": 62,
   "metadata": {},
   "outputs": [],
   "source": [
    "i_grade = [1,50,65,90,101,-5,49]"
   ]
  },
  {
   "cell_type": "code",
   "execution_count": 64,
   "metadata": {},
   "outputs": [
    {
     "name": "stdout",
     "output_type": "stream",
     "text": [
      "F\n",
      "D\n",
      "C+\n",
      "A\n",
      "A\n",
      "F\n",
      "F\n"
     ]
    }
   ],
   "source": [
    "for i in i_grade:\n",
    "    if i>79:\n",
    "        print('A')\n",
    "    elif i>74:\n",
    "        print('B+')\n",
    "    elif i>69:\n",
    "        print('B')\n",
    "    elif i>64:\n",
    "        print('C+')\n",
    "    elif i>59:\n",
    "        print('C')\n",
    "    elif i>54:\n",
    "        print('D+')\n",
    "    elif i>49:\n",
    "        print('D')\n",
    "    else:\n",
    "        print('F')\n",
    "        "
   ]
  },
  {
   "cell_type": "code",
   "execution_count": null,
   "metadata": {},
   "outputs": [],
   "source": []
  }
 ],
 "metadata": {
  "kernelspec": {
   "display_name": "Python 3",
   "language": "python",
   "name": "python3"
  },
  "language_info": {
   "codemirror_mode": {
    "name": "ipython",
    "version": 3
   },
   "file_extension": ".py",
   "mimetype": "text/x-python",
   "name": "python",
   "nbconvert_exporter": "python",
   "pygments_lexer": "ipython3",
   "version": "3.7.4"
  }
 },
 "nbformat": 4,
 "nbformat_minor": 2
}
