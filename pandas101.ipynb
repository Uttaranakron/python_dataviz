{
 "cells": [
  {
   "cell_type": "code",
   "execution_count": 1,
   "metadata": {},
   "outputs": [],
   "source": [
    "import pandas as pd"
   ]
  },
  {
   "cell_type": "markdown",
   "metadata": {},
   "source": [
    "# Define path to table files "
   ]
  },
  {
   "cell_type": "code",
   "execution_count": 2,
   "metadata": {},
   "outputs": [],
   "source": [
    "w_restaurant_PATH = 'C:\\\\Users\\\\N-PC\\\\Documents\\\\python\\\\python_dataviz\\\\w_restaurant.csv'\n",
    "search_click_PATH = 'C:\\\\Users\\\\N-PC\\\\Documents\\\\python\\\\python_dataviz\\\\search_click.csv'"
   ]
  },
  {
   "cell_type": "markdown",
   "metadata": {},
   "source": [
    "# load files into memory\n",
    "\n"
   ]
  },
  {
   "cell_type": "code",
   "execution_count": 3,
   "metadata": {},
   "outputs": [],
   "source": [
    "w_restaurant_df = pd.read_csv(w_restaurant_PATH)\n",
    "search_click_df = pd.read_csv(search_click_PATH)"
   ]
  },
  {
   "cell_type": "code",
   "execution_count": 4,
   "metadata": {},
   "outputs": [
    {
     "data": {
      "text/html": [
       "<div>\n",
       "<style scoped>\n",
       "    .dataframe tbody tr th:only-of-type {\n",
       "        vertical-align: middle;\n",
       "    }\n",
       "\n",
       "    .dataframe tbody tr th {\n",
       "        vertical-align: top;\n",
       "    }\n",
       "\n",
       "    .dataframe thead th {\n",
       "        text-align: right;\n",
       "    }\n",
       "</style>\n",
       "<table border=\"1\" class=\"dataframe\">\n",
       "  <thead>\n",
       "    <tr style=\"text-align: right;\">\n",
       "      <th></th>\n",
       "      <th>click_timestamp</th>\n",
       "      <th>search_id</th>\n",
       "      <th>business_id</th>\n",
       "      <th>display_position</th>\n",
       "      <th>time_diff_nanos</th>\n",
       "      <th>ads</th>\n",
       "    </tr>\n",
       "  </thead>\n",
       "  <tbody>\n",
       "    <tr>\n",
       "      <th>1048570</th>\n",
       "      <td>05:28.8</td>\n",
       "      <td>99aab616-6fc5-4fbf-994b-4aebee7bb360</td>\n",
       "      <td>278479.0</td>\n",
       "      <td>8</td>\n",
       "      <td>2.072630e+11</td>\n",
       "      <td>False</td>\n",
       "    </tr>\n",
       "    <tr>\n",
       "      <th>1048571</th>\n",
       "      <td>15:28.8</td>\n",
       "      <td>d70a2c5d-ee94-4e4c-9f7c-c5faac6db12a</td>\n",
       "      <td>321885.0</td>\n",
       "      <td>8</td>\n",
       "      <td>6.931413e+10</td>\n",
       "      <td>False</td>\n",
       "    </tr>\n",
       "    <tr>\n",
       "      <th>1048572</th>\n",
       "      <td>11:49.4</td>\n",
       "      <td>4c1de7fe-300e-41aa-9d01-914344fc3753</td>\n",
       "      <td>221035.0</td>\n",
       "      <td>8</td>\n",
       "      <td>3.105162e+10</td>\n",
       "      <td>False</td>\n",
       "    </tr>\n",
       "    <tr>\n",
       "      <th>1048573</th>\n",
       "      <td>10:33.7</td>\n",
       "      <td>2ec0ddec-e450-4b98-9779-42b77aa7eda5</td>\n",
       "      <td>220572.0</td>\n",
       "      <td>8</td>\n",
       "      <td>7.848904e+10</td>\n",
       "      <td>False</td>\n",
       "    </tr>\n",
       "    <tr>\n",
       "      <th>1048574</th>\n",
       "      <td>13:51.4</td>\n",
       "      <td>5741d9cf-b9f1-441d-aa83-d2b0179bf874</td>\n",
       "      <td>310448.0</td>\n",
       "      <td>8</td>\n",
       "      <td>3.157757e+10</td>\n",
       "      <td>False</td>\n",
       "    </tr>\n",
       "  </tbody>\n",
       "</table>\n",
       "</div>"
      ],
      "text/plain": [
       "        click_timestamp                             search_id  business_id  \\\n",
       "1048570         05:28.8  99aab616-6fc5-4fbf-994b-4aebee7bb360     278479.0   \n",
       "1048571         15:28.8  d70a2c5d-ee94-4e4c-9f7c-c5faac6db12a     321885.0   \n",
       "1048572         11:49.4  4c1de7fe-300e-41aa-9d01-914344fc3753     221035.0   \n",
       "1048573         10:33.7  2ec0ddec-e450-4b98-9779-42b77aa7eda5     220572.0   \n",
       "1048574         13:51.4  5741d9cf-b9f1-441d-aa83-d2b0179bf874     310448.0   \n",
       "\n",
       "         display_position  time_diff_nanos    ads  \n",
       "1048570                 8     2.072630e+11  False  \n",
       "1048571                 8     6.931413e+10  False  \n",
       "1048572                 8     3.105162e+10  False  \n",
       "1048573                 8     7.848904e+10  False  \n",
       "1048574                 8     3.157757e+10  False  "
      ]
     },
     "execution_count": 4,
     "metadata": {},
     "output_type": "execute_result"
    }
   ],
   "source": [
    "search_click_df.tail()"
   ]
  },
  {
   "cell_type": "code",
   "execution_count": 5,
   "metadata": {},
   "outputs": [
    {
     "data": {
      "text/plain": [
       "(1048575, 6)"
      ]
     },
     "execution_count": 5,
     "metadata": {},
     "output_type": "execute_result"
    }
   ],
   "source": [
    "search_click_df.shape"
   ]
  },
  {
   "cell_type": "code",
   "execution_count": 6,
   "metadata": {},
   "outputs": [
    {
     "ename": "SyntaxError",
     "evalue": "invalid syntax (<ipython-input-6-ad01a0520bd6>, line 1)",
     "output_type": "error",
     "traceback": [
      "\u001b[1;36m  File \u001b[1;32m\"<ipython-input-6-ad01a0520bd6>\"\u001b[1;36m, line \u001b[1;32m1\u001b[0m\n\u001b[1;33m    w_restaurant_df.\u001b[0m\n\u001b[1;37m                    ^\u001b[0m\n\u001b[1;31mSyntaxError\u001b[0m\u001b[1;31m:\u001b[0m invalid syntax\n"
     ]
    }
   ],
   "source": [
    "w_restaurant_df."
   ]
  },
  {
   "cell_type": "markdown",
   "metadata": {},
   "source": [
    "## data preprocessing\n",
    "## missing"
   ]
  },
  {
   "cell_type": "code",
   "execution_count": null,
   "metadata": {},
   "outputs": [],
   "source": [
    "w_restaurant_df.isnull().any()"
   ]
  },
  {
   "cell_type": "markdown",
   "metadata": {},
   "source": [
    "## แก้ missing แบบแรก\n",
    "## delete row with missing value \n",
    "## แบบแรก เข้าห้องสอบกำจัดเลย"
   ]
  },
  {
   "cell_type": "markdown",
   "metadata": {},
   "source": [
    "ลบ missing ในโค้ด เหลือแสนเจ็ด"
   ]
  },
  {
   "cell_type": "code",
   "execution_count": null,
   "metadata": {},
   "outputs": [],
   "source": [
    "w_restaurant_df.drop_na(subset = ['zipcode'])"
   ]
  },
  {
   "cell_type": "code",
   "execution_count": null,
   "metadata": {},
   "outputs": [],
   "source": [
    "w_restaurant_df.dropna(subset = ['zipcode','number_of_chains'])"
   ]
  },
  {
   "cell_type": "code",
   "execution_count": null,
   "metadata": {},
   "outputs": [],
   "source": [
    "w_restaurant_df =w_restaurant_df.dropna(subset = ['zipcode','number_of_chains'])"
   ]
  },
  {
   "cell_type": "markdown",
   "metadata": {},
   "source": [
    "แบบที่2 คือให้ฉลาดขึ้นมา\n",
    "## fill default value to the data"
   ]
  },
  {
   "cell_type": "markdown",
   "metadata": {},
   "source": [
    "เป็นมิตซิ่งที่ค่า 0"
   ]
  },
  {
   "cell_type": "code",
   "execution_count": null,
   "metadata": {},
   "outputs": [],
   "source": [
    "w_restaurant_df['parking']fillna(0)"
   ]
  },
  {
   "cell_type": "markdown",
   "metadata": {},
   "source": [
    "search_click_df.tail()"
   ]
  },
  {
   "cell_type": "markdown",
   "metadata": {},
   "source": [
    "อัพเดทตาราง =ชื่อตารางใหม่จะไปแทนตารางที่โดนดร๊อป na"
   ]
  },
  {
   "cell_type": "code",
   "execution_count": null,
   "metadata": {},
   "outputs": [],
   "source": [
    "w_restaurant_df['parking'] =w_restaurant_df['parking'] =w_restaurant_df fillna(0) "
   ]
  },
  {
   "cell_type": "markdown",
   "metadata": {},
   "source": [
    "# select part of the table by value\n",
    "## part of table = table[data_condition == True]"
   ]
  },
  {
   "cell_type": "markdown",
   "metadata": {},
   "source": [
    "เลือกบางส่วนของตาราง"
   ]
  },
  {
   "cell_type": "markdown",
   "metadata": {},
   "source": [
    "สนใจร้านจอดรถที่มีมากกว่า5 หรือเท่ากับ5"
   ]
  },
  {
   "cell_type": "markdown",
   "metadata": {},
   "source": [
    "เอาไว้ใช้หลัง if ได้"
   ]
  },
  {
   "cell_type": "markdown",
   "metadata": {},
   "source": [
    "list ของ บูลีน"
   ]
  },
  {
   "cell_type": "markdown",
   "metadata": {},
   "source": [
    "w_restaurant_df['parking'] >= 3"
   ]
  },
  {
   "cell_type": "markdown",
   "metadata": {},
   "source": [
    "ข้างบนได้แค่ค่า T F "
   ]
  },
  {
   "cell_type": "code",
   "execution_count": null,
   "metadata": {},
   "outputs": [],
   "source": [
    "w_restaurant_d[w_restaurant_df['parking'] >= 3]"
   ]
  },
  {
   "cell_type": "markdown",
   "metadata": {},
   "source": [
    "โหลดตารางขึ้นใหม่"
   ]
  },
  {
   "cell_type": "markdown",
   "metadata": {},
   "source": [
    "## HM select all restaurants from your hometown"
   ]
  },
  {
   "cell_type": "code",
   "execution_count": null,
   "metadata": {},
   "outputs": [],
   "source": [
    "w_restaurant_df = pd.read_csv(w_restaurant_PATH)"
   ]
  },
  {
   "cell_type": "code",
   "execution_count": null,
   "metadata": {},
   "outputs": [],
   "source": [
    "w_restaurant_df['city_name']"
   ]
  },
  {
   "cell_type": "markdown",
   "metadata": {},
   "source": [
    "ถูกรวมกัน"
   ]
  },
  {
   "cell_type": "code",
   "execution_count": null,
   "metadata": {},
   "outputs": [],
   "source": [
    "set(w_restaurant_df['city_name'])"
   ]
  },
  {
   "cell_type": "markdown",
   "metadata": {},
   "source": [
    "ตัดตารางเฉพาะจังหวัดที่เราอยู่ หรือประเทศที่อยากอยู่"
   ]
  },
  {
   "cell_type": "markdown",
   "metadata": {},
   "source": [
    "หาวิธีเซฟลงไฟล์"
   ]
  },
  {
   "cell_type": "markdown",
   "metadata": {},
   "source": [
    "## save table ta a file"
   ]
  },
  {
   "cell_type": "code",
   "execution_count": null,
   "metadata": {},
   "outputs": [],
   "source": [
    "w_restaurant_df.to_csv('test.csv') ##เซฟลงไฟ์ ชื่อไฟล์แบบนี้แปลว่าเซฟที่อยู่เดียวกับโค๊ด"
   ]
  },
  {
   "cell_type": "markdown",
   "metadata": {},
   "source": []
  },
  {
   "cell_type": "code",
   "execution_count": null,
   "metadata": {
    "scrolled": true
   },
   "outputs": [],
   "source": [
    "search_click_df.tail()"
   ]
  },
  {
   "cell_type": "markdown",
   "metadata": {},
   "source": [
    "# Week2\n"
   ]
  },
  {
   "cell_type": "code",
   "execution_count": 7,
   "metadata": {},
   "outputs": [],
   "source": [
    "import pandas as pd"
   ]
  },
  {
   "cell_type": "code",
   "execution_count": 8,
   "metadata": {},
   "outputs": [],
   "source": [
    "w_restaurant_PATH = 'C:\\\\Users\\\\N-PC\\\\Documents\\\\python\\\\python_dataviz\\\\w_restaurant.csv'\n",
    "search_click_PATH = 'C:\\\\Users\\\\N-PC\\\\Documents\\\\python\\\\python_dataviz\\\\search_click.csv'\n",
    "w_restaurant_df = pd.read_csv(w_restaurant_PATH)\n",
    "search_click_df = pd.read_csv(search_click_PATH)"
   ]
  },
  {
   "cell_type": "code",
   "execution_count": 9,
   "metadata": {},
   "outputs": [
    {
     "data": {
      "text/html": [
       "<div>\n",
       "<style scoped>\n",
       "    .dataframe tbody tr th:only-of-type {\n",
       "        vertical-align: middle;\n",
       "    }\n",
       "\n",
       "    .dataframe tbody tr th {\n",
       "        vertical-align: top;\n",
       "    }\n",
       "\n",
       "    .dataframe thead th {\n",
       "        text-align: right;\n",
       "    }\n",
       "</style>\n",
       "<table border=\"1\" class=\"dataframe\">\n",
       "  <thead>\n",
       "    <tr style=\"text-align: right;\">\n",
       "      <th></th>\n",
       "      <th>id</th>\n",
       "      <th>name</th>\n",
       "      <th>domain_id</th>\n",
       "      <th>closed</th>\n",
       "      <th>city_name</th>\n",
       "      <th>zipcode</th>\n",
       "      <th>geohash</th>\n",
       "      <th>new_open</th>\n",
       "      <th>weighted_average_rating</th>\n",
       "      <th>number_of_chains</th>\n",
       "      <th>...</th>\n",
       "      <th>good_for_groups</th>\n",
       "      <th>good_for_kids</th>\n",
       "      <th>bookable</th>\n",
       "      <th>best_of_wongnai</th>\n",
       "      <th>wifi</th>\n",
       "      <th>number_of_seats</th>\n",
       "      <th>music_venue</th>\n",
       "      <th>hotel_restaurant</th>\n",
       "      <th>pet_friendly</th>\n",
       "      <th>delivery</th>\n",
       "    </tr>\n",
       "  </thead>\n",
       "  <tbody>\n",
       "    <tr>\n",
       "      <th>0</th>\n",
       "      <td>2</td>\n",
       "      <td>นครินทร์ทันตกรรม</td>\n",
       "      <td>2</td>\n",
       "      <td>0</td>\n",
       "      <td>Samut Songkhram</td>\n",
       "      <td>75000</td>\n",
       "      <td>w4rh7g3</td>\n",
       "      <td>0</td>\n",
       "      <td>5.000000</td>\n",
       "      <td>NaN</td>\n",
       "      <td>...</td>\n",
       "      <td>NaN</td>\n",
       "      <td>NaN</td>\n",
       "      <td>NaN</td>\n",
       "      <td>NaN</td>\n",
       "      <td>NaN</td>\n",
       "      <td>13.0</td>\n",
       "      <td>NaN</td>\n",
       "      <td>NaN</td>\n",
       "      <td>NaN</td>\n",
       "      <td>NaN</td>\n",
       "    </tr>\n",
       "    <tr>\n",
       "      <th>1</th>\n",
       "      <td>4</td>\n",
       "      <td>Corner House</td>\n",
       "      <td>1</td>\n",
       "      <td>0</td>\n",
       "      <td>Bangkok Metropolitan Region</td>\n",
       "      <td>12150</td>\n",
       "      <td>w4rx73h</td>\n",
       "      <td>0</td>\n",
       "      <td>2.000000</td>\n",
       "      <td>NaN</td>\n",
       "      <td>...</td>\n",
       "      <td>NaN</td>\n",
       "      <td>NaN</td>\n",
       "      <td>NaN</td>\n",
       "      <td>NaN</td>\n",
       "      <td>NaN</td>\n",
       "      <td>NaN</td>\n",
       "      <td>NaN</td>\n",
       "      <td>NaN</td>\n",
       "      <td>NaN</td>\n",
       "      <td>NaN</td>\n",
       "    </tr>\n",
       "    <tr>\n",
       "      <th>2</th>\n",
       "      <td>5</td>\n",
       "      <td>วัดโลกยสุธาราม</td>\n",
       "      <td>4</td>\n",
       "      <td>0</td>\n",
       "      <td>Phra Nakhon Si Ayutthaya</td>\n",
       "      <td>13000</td>\n",
       "      <td>w4x98jk</td>\n",
       "      <td>0</td>\n",
       "      <td>4.000000</td>\n",
       "      <td>NaN</td>\n",
       "      <td>...</td>\n",
       "      <td>NaN</td>\n",
       "      <td>NaN</td>\n",
       "      <td>NaN</td>\n",
       "      <td>NaN</td>\n",
       "      <td>NaN</td>\n",
       "      <td>NaN</td>\n",
       "      <td>NaN</td>\n",
       "      <td>NaN</td>\n",
       "      <td>NaN</td>\n",
       "      <td>NaN</td>\n",
       "    </tr>\n",
       "    <tr>\n",
       "      <th>3</th>\n",
       "      <td>6</td>\n",
       "      <td>นันท์คาราโอเกะ</td>\n",
       "      <td>1</td>\n",
       "      <td>0</td>\n",
       "      <td>Bangkok Metropolitan Region</td>\n",
       "      <td>10700</td>\n",
       "      <td>w4rqw9q</td>\n",
       "      <td>0</td>\n",
       "      <td>0.000000</td>\n",
       "      <td>NaN</td>\n",
       "      <td>...</td>\n",
       "      <td>NaN</td>\n",
       "      <td>NaN</td>\n",
       "      <td>NaN</td>\n",
       "      <td>NaN</td>\n",
       "      <td>NaN</td>\n",
       "      <td>NaN</td>\n",
       "      <td>NaN</td>\n",
       "      <td>NaN</td>\n",
       "      <td>NaN</td>\n",
       "      <td>NaN</td>\n",
       "    </tr>\n",
       "    <tr>\n",
       "      <th>4</th>\n",
       "      <td>7</td>\n",
       "      <td>Buono Caffe</td>\n",
       "      <td>1</td>\n",
       "      <td>0</td>\n",
       "      <td>Bangkok Metropolitan Region</td>\n",
       "      <td>10220</td>\n",
       "      <td>w4rx4gd</td>\n",
       "      <td>0</td>\n",
       "      <td>3.738462</td>\n",
       "      <td>NaN</td>\n",
       "      <td>...</td>\n",
       "      <td>NaN</td>\n",
       "      <td>NaN</td>\n",
       "      <td>NaN</td>\n",
       "      <td>NaN</td>\n",
       "      <td>1.0</td>\n",
       "      <td>2.0</td>\n",
       "      <td>NaN</td>\n",
       "      <td>NaN</td>\n",
       "      <td>NaN</td>\n",
       "      <td>NaN</td>\n",
       "    </tr>\n",
       "  </tbody>\n",
       "</table>\n",
       "<p>5 rows × 32 columns</p>\n",
       "</div>"
      ],
      "text/plain": [
       "   id              name  domain_id  closed                    city_name  \\\n",
       "0   2  นครินทร์ทันตกรรม          2       0              Samut Songkhram   \n",
       "1   4      Corner House          1       0  Bangkok Metropolitan Region   \n",
       "2   5    วัดโลกยสุธาราม          4       0     Phra Nakhon Si Ayutthaya   \n",
       "3   6    นันท์คาราโอเกะ          1       0  Bangkok Metropolitan Region   \n",
       "4   7       Buono Caffe          1       0  Bangkok Metropolitan Region   \n",
       "\n",
       "  zipcode  geohash  new_open  weighted_average_rating  number_of_chains  ...  \\\n",
       "0   75000  w4rh7g3         0                 5.000000               NaN  ...   \n",
       "1   12150  w4rx73h         0                 2.000000               NaN  ...   \n",
       "2   13000  w4x98jk         0                 4.000000               NaN  ...   \n",
       "3   10700  w4rqw9q         0                 0.000000               NaN  ...   \n",
       "4   10220  w4rx4gd         0                 3.738462               NaN  ...   \n",
       "\n",
       "   good_for_groups  good_for_kids  bookable  best_of_wongnai  wifi  \\\n",
       "0              NaN            NaN       NaN              NaN   NaN   \n",
       "1              NaN            NaN       NaN              NaN   NaN   \n",
       "2              NaN            NaN       NaN              NaN   NaN   \n",
       "3              NaN            NaN       NaN              NaN   NaN   \n",
       "4              NaN            NaN       NaN              NaN   1.0   \n",
       "\n",
       "   number_of_seats  music_venue hotel_restaurant  pet_friendly  delivery  \n",
       "0             13.0          NaN              NaN           NaN       NaN  \n",
       "1              NaN          NaN              NaN           NaN       NaN  \n",
       "2              NaN          NaN              NaN           NaN       NaN  \n",
       "3              NaN          NaN              NaN           NaN       NaN  \n",
       "4              2.0          NaN              NaN           NaN       NaN  \n",
       "\n",
       "[5 rows x 32 columns]"
      ]
     },
     "execution_count": 9,
     "metadata": {},
     "output_type": "execute_result"
    }
   ],
   "source": [
    "w_restaurant_df.head()"
   ]
  },
  {
   "cell_type": "code",
   "execution_count": null,
   "metadata": {},
   "outputs": [],
   "source": []
  },
  {
   "cell_type": "code",
   "execution_count": null,
   "metadata": {},
   "outputs": [],
   "source": []
  },
  {
   "cell_type": "code",
   "execution_count": null,
   "metadata": {},
   "outputs": [],
   "source": []
  },
  {
   "cell_type": "code",
   "execution_count": null,
   "metadata": {},
   "outputs": [],
   "source": []
  }
 ],
 "metadata": {
  "kernelspec": {
   "display_name": "Python 3",
   "language": "python",
   "name": "python3"
  },
  "language_info": {
   "codemirror_mode": {
    "name": "ipython",
    "version": 3
   },
   "file_extension": ".py",
   "mimetype": "text/x-python",
   "name": "python",
   "nbconvert_exporter": "python",
   "pygments_lexer": "ipython3",
   "version": "3.7.4"
  }
 },
 "nbformat": 4,
 "nbformat_minor": 2
}
